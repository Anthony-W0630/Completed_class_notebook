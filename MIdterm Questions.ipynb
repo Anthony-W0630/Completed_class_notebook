{
 "cells": [
  {
   "cell_type": "markdown",
   "id": "308f495e",
   "metadata": {},
   "source": [
    "### 1 Create a list of 10 numbers and find out the minimum, maximum, and total (sum) of the list"
   ]
  },
  {
   "cell_type": "code",
   "execution_count": 18,
   "id": "c2d32c55",
   "metadata": {},
   "outputs": [
    {
     "name": "stdout",
     "output_type": "stream",
     "text": [
      "1\n",
      "10\n",
      "55\n"
     ]
    }
   ],
   "source": [
    "numbers=[1,2,3,4,5,6,7,8,9,10]\n",
    "\n",
    "print(min(numbers))\n",
    "\n",
    "print(max(numbers))\n",
    "\n",
    "print(sum(numbers))"
   ]
  },
  {
   "cell_type": "markdown",
   "id": "7eecf759",
   "metadata": {},
   "source": [
    "### 2 What is a nested If statement? Get input from a user and check whether the number is odd or not. If the number is odd it is also less than or equal to 20. If not, then print relevant information."
   ]
  },
  {
   "cell_type": "code",
   "execution_count": 27,
   "id": "f77355c8",
   "metadata": {},
   "outputs": [
    {
     "name": "stdout",
     "output_type": "stream",
     "text": [
      "Enter a number: 11\n",
      "The number is odd and less than 20\n"
     ]
    }
   ],
   "source": [
    "number=int(input(\"Enter a number: \" ))\n",
    "\n",
    "if number%2==1:\n",
    "    if number<=20:\n",
    "        print(\"The number is odd and less than 20\")\n",
    "    else:\n",
    "        print(\"The number is odd but not less than or equal to 20\")\n",
    "else:\n",
    "    print(\"the number is even\")"
   ]
  },
  {
   "cell_type": "markdown",
   "id": "439b057c",
   "metadata": {},
   "source": [
    "### 3 Get a user input of an integer number and check if the given number is a multiple of 11 or not. "
   ]
  },
  {
   "cell_type": "code",
   "execution_count": 23,
   "id": "6cf0daca",
   "metadata": {},
   "outputs": [
    {
     "name": "stdout",
     "output_type": "stream",
     "text": [
      "Enter a number: 2\n",
      "The number is not a multiple of 11\n"
     ]
    }
   ],
   "source": [
    "number=int(input(\"Enter a number: \"))\n",
    "if number%11==0:\n",
    "    Print(\"the number is a multiple of 11\")\n",
    "else:\n",
    "    print(\"The number is not a multiple of 11\")"
   ]
  },
  {
   "cell_type": "markdown",
   "id": "78d141c4",
   "metadata": {},
   "source": [
    "### 5 In the United States, as of 1995, a minor is generally legally defined as a person under the age of 18. Write a code to check whether a student is a minor or not where the input will be given by users."
   ]
  },
  {
   "cell_type": "code",
   "execution_count": 21,
   "id": "6592fa14",
   "metadata": {},
   "outputs": [
    {
     "name": "stdout",
     "output_type": "stream",
     "text": [
      "Enter an age: 18\n",
      "You are an adult!\n"
     ]
    }
   ],
   "source": [
    "age=int(input(\"Enter an age: \"))\n",
    "if age>=18:\n",
    "    print(\"You are an adult!\")\n",
    "else:\n",
    "    print(\"you are a minor\")"
   ]
  },
  {
   "cell_type": "markdown",
   "id": "330a9d9f",
   "metadata": {},
   "source": [
    "### 8 Write down a program using a for loop that prints all numbers from 1 to 15 and adds them to a list called numbers_list. \n",
    "\n",
    " - numbers_list=[1,2,3,4,...15]"
   ]
  },
  {
   "cell_type": "code",
   "execution_count": 20,
   "id": "8e4bbbc6",
   "metadata": {},
   "outputs": [
    {
     "name": "stdout",
     "output_type": "stream",
     "text": [
      "[1, 2, 3, 4, 5, 6, 7, 8, 9, 10, 11, 12, 13, 14, 15]\n"
     ]
    }
   ],
   "source": [
    "numbers_list=[]\n",
    "for i in range(1,16):\n",
    "    numbers_list.append(i)\n",
    "print(numbers_list)"
   ]
  }
 ],
 "metadata": {
  "kernelspec": {
   "display_name": "Python 3 (ipykernel)",
   "language": "python",
   "name": "python3"
  },
  "language_info": {
   "codemirror_mode": {
    "name": "ipython",
    "version": 3
   },
   "file_extension": ".py",
   "mimetype": "text/x-python",
   "name": "python",
   "nbconvert_exporter": "python",
   "pygments_lexer": "ipython3",
   "version": "3.11.4"
  }
 },
 "nbformat": 4,
 "nbformat_minor": 5
}
