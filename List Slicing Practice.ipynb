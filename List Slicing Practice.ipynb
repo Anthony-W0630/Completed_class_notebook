{
 "cells": [
  {
   "cell_type": "markdown",
   "id": "84114222",
   "metadata": {},
   "source": [
    "### Practice Questions on Lists\n",
    "(Submit the notebook on Moodle using Github along with the class notebook)"
   ]
  },
  {
   "cell_type": "markdown",
   "id": "0891df79",
   "metadata": {},
   "source": [
    "### numbers = [0, 1, 2, 3, 4, 5, 6, 7, 8, 9]\n",
    "1. Get the first three elements.\n",
    "2. Get elements from index 3 to 6 (inclusive).\n",
    "3. Get the last three elements.\n",
    "4. Get every second element from the list.\n",
    "5. Get a reverse of the list."
   ]
  },
  {
   "cell_type": "code",
   "execution_count": 3,
   "id": "5efba997",
   "metadata": {},
   "outputs": [],
   "source": [
    "numbers=[0,1,2,3,4,5,6,7,8,9]\n"
   ]
  },
  {
   "cell_type": "code",
   "execution_count": 4,
   "id": "2183500f",
   "metadata": {},
   "outputs": [
    {
     "name": "stdout",
     "output_type": "stream",
     "text": [
      "First three numbers: [0, 1, 2]\n"
     ]
    }
   ],
   "source": [
    "print(f\"First three numbers: {numbers[:3]}\")"
   ]
  },
  {
   "cell_type": "code",
   "execution_count": 5,
   "id": "a1473250",
   "metadata": {},
   "outputs": [
    {
     "name": "stdout",
     "output_type": "stream",
     "text": [
      "numbers index 3 to 6: [3, 4, 5, 6]\n"
     ]
    }
   ],
   "source": [
    "print(f\"numbers index 3 to 6: {numbers[3:7]}\") # inclusive you have to go one number more (for 6 put 7)"
   ]
  },
  {
   "cell_type": "code",
   "execution_count": 9,
   "id": "7232b7ef",
   "metadata": {},
   "outputs": [
    {
     "name": "stdout",
     "output_type": "stream",
     "text": [
      "The last three elements: [7, 8, 9]\n"
     ]
    }
   ],
   "source": [
    "print(f\"The last three elements: {numbers[-3:]}\") "
   ]
  },
  {
   "cell_type": "code",
   "execution_count": 10,
   "id": "a843a06e",
   "metadata": {},
   "outputs": [
    {
     "name": "stdout",
     "output_type": "stream",
     "text": [
      "Every second element: [0, 2, 4, 6, 8]\n"
     ]
    }
   ],
   "source": [
    "print(f\"Every second element: {numbers[::2]}\")"
   ]
  },
  {
   "cell_type": "code",
   "execution_count": 11,
   "id": "4ba878d2",
   "metadata": {},
   "outputs": [
    {
     "name": "stdout",
     "output_type": "stream",
     "text": [
      "Reverse: [9, 8, 7, 6, 5, 4, 3, 2, 1, 0]\n"
     ]
    }
   ],
   "source": [
    "print(f\"Reverse: {numbers[::-1]}\")"
   ]
  },
  {
   "cell_type": "markdown",
   "id": "dcc22463",
   "metadata": {},
   "source": [
    "### letters = ['a', 'b', 'c', 'd', 'e', 'f', 'g', 'h', 'i', 'j']\n",
    "1. Get every second letter starting from the first letter.\n",
    "2. Get every third letter starting from the second letter.\n",
    "3. Get every fourth letter starting from the third letter."
   ]
  },
  {
   "cell_type": "code",
   "execution_count": 13,
   "id": "34576f2b",
   "metadata": {},
   "outputs": [],
   "source": [
    "letters=['a','b','c','d','e','f','g','h','i','j']"
   ]
  },
  {
   "cell_type": "code",
   "execution_count": 15,
   "id": "27d1b840",
   "metadata": {},
   "outputs": [
    {
     "name": "stdout",
     "output_type": "stream",
     "text": [
      "every second letter: ['a', 'c', 'e', 'g', 'i']\n"
     ]
    }
   ],
   "source": [
    "print(f\"Every second letter: {letters[::2]}\")"
   ]
  },
  {
   "cell_type": "code",
   "execution_count": 18,
   "id": "74020c8c",
   "metadata": {},
   "outputs": [
    {
     "name": "stdout",
     "output_type": "stream",
     "text": [
      "Every third letter: ['b', 'e', 'h']\n"
     ]
    }
   ],
   "source": [
    "print(f\"Every third letter: {letters[1::3]}\")"
   ]
  },
  {
   "cell_type": "code",
   "execution_count": 20,
   "id": "7f3f0694",
   "metadata": {},
   "outputs": [
    {
     "name": "stdout",
     "output_type": "stream",
     "text": [
      "Every fourth letter starting from the third letter: ['c', 'g']\n"
     ]
    }
   ],
   "source": [
    "print(f\"Every fourth letter starting from the third letter: {letters[2::4]}\")"
   ]
  },
  {
   "cell_type": "markdown",
   "id": "ee041ed9",
   "metadata": {},
   "source": [
    "### colors = ['red', 'green', 'blue', 'yellow', 'purple']\n",
    "1. Get the last two elements.\n",
    "2. Get elements from the third to the last element.\n",
    "3. Get a reverse of the list using negative indexing."
   ]
  },
  {
   "cell_type": "code",
   "execution_count": 22,
   "id": "0e5e09a0",
   "metadata": {},
   "outputs": [
    {
     "name": "stdout",
     "output_type": "stream",
     "text": [
      "Last two element: ['yellow', 'purple']\n"
     ]
    }
   ],
   "source": [
    "colors = ['red', 'green', 'blue', 'yellow', 'purple']\n",
    "print(f\"Last two element: {colors[-2:]}\")"
   ]
  },
  {
   "cell_type": "code",
   "execution_count": 23,
   "id": "48186965",
   "metadata": {},
   "outputs": [
    {
     "name": "stdout",
     "output_type": "stream",
     "text": [
      "element third to last: ['blue', 'yellow', 'purple']\n"
     ]
    }
   ],
   "source": [
    "print(f\"element third to last: {colors[-3:]}\")"
   ]
  },
  {
   "cell_type": "code",
   "execution_count": 25,
   "id": "54a6f796",
   "metadata": {},
   "outputs": [
    {
     "name": "stdout",
     "output_type": "stream",
     "text": [
      "Reverse list: ['purple', 'yellow', 'blue', 'green', 'red']\n"
     ]
    }
   ],
   "source": [
    "print(f\"Reverse list: {colors[::-1]}\")"
   ]
  },
  {
   "cell_type": "code",
   "execution_count": 27,
   "id": "944c70d8",
   "metadata": {},
   "outputs": [
    {
     "name": "stdout",
     "output_type": "stream",
     "text": [
      "Reverse the list with step of two: ['purple', 'blue', 'red']\n"
     ]
    }
   ],
   "source": [
    "print(f\"Reverse the list with step of two: {colors[::-2]}\")"
   ]
  },
  {
   "cell_type": "markdown",
   "id": "015a43d4",
   "metadata": {},
   "source": [
    "## Slicing Nested Lists\n",
    "### matrix = [[1, 2, 3], [4, 5, 6], [7, 8, 9]]\n",
    "1. Extract the second row (list [4, 5, 6]).\n",
    "2. Extract the number 2.\n",
    "3. Extract the number 9."
   ]
  },
  {
   "cell_type": "code",
   "execution_count": 29,
   "id": "b45aca96",
   "metadata": {},
   "outputs": [],
   "source": [
    "matrix = [[1, 2, 3], [4, 5, 6], [7, 8, 9]]"
   ]
  },
  {
   "cell_type": "code",
   "execution_count": 30,
   "id": "3cef0e46",
   "metadata": {},
   "outputs": [
    {
     "name": "stdout",
     "output_type": "stream",
     "text": [
      "The second row: [4, 5, 6]\n"
     ]
    }
   ],
   "source": [
    "print(f\"The second row: {matrix[1]}\")"
   ]
  },
  {
   "cell_type": "code",
   "execution_count": 32,
   "id": "bdac9866",
   "metadata": {},
   "outputs": [
    {
     "name": "stdout",
     "output_type": "stream",
     "text": [
      "The number two: 2\n"
     ]
    }
   ],
   "source": [
    "print(f\"The number two: {matrix[0][1]}\")"
   ]
  },
  {
   "cell_type": "code",
   "execution_count": 33,
   "id": "f6912ee9",
   "metadata": {},
   "outputs": [
    {
     "name": "stdout",
     "output_type": "stream",
     "text": [
      "The number nine: 9\n"
     ]
    }
   ],
   "source": [
    "print(f\"The number nine: {matrix[2][2]}\")"
   ]
  },
  {
   "cell_type": "markdown",
   "id": "27c08f0f",
   "metadata": {},
   "source": [
    "### Matrix1=['Day',[23,45],'Monday',[[12,13],[14,15]]]\n",
    " - Print Monday \n",
    " - Print 13\n",
    " - Print 15\n",
    " - Print 45\n",
    " - print day"
   ]
  },
  {
   "cell_type": "code",
   "execution_count": 35,
   "id": "a85fe4f8",
   "metadata": {},
   "outputs": [
    {
     "name": "stdout",
     "output_type": "stream",
     "text": [
      "['Day', [23, 45], 'Monday', [[12, 13], [14, 15]]]\n"
     ]
    }
   ],
   "source": [
    "Matrix1=['Day',[23,45],'Monday',[[12,13],[14,15]]]\n",
    "print(Matrix1)"
   ]
  },
  {
   "cell_type": "code",
   "execution_count": 36,
   "id": "30d7ba44",
   "metadata": {},
   "outputs": [
    {
     "name": "stdout",
     "output_type": "stream",
     "text": [
      "Monday: Monday\n"
     ]
    }
   ],
   "source": [
    "print(f\"Monday: {Matrix1[2]}\")"
   ]
  },
  {
   "cell_type": "code",
   "execution_count": 40,
   "id": "8401ccb8",
   "metadata": {},
   "outputs": [
    {
     "name": "stdout",
     "output_type": "stream",
     "text": [
      "13: 13\n"
     ]
    }
   ],
   "source": [
    "print(f\"13: {Matrix1[3][0][1]}\")"
   ]
  },
  {
   "cell_type": "code",
   "execution_count": 42,
   "id": "80d47c64",
   "metadata": {},
   "outputs": [
    {
     "name": "stdout",
     "output_type": "stream",
     "text": [
      "15: 15\n"
     ]
    }
   ],
   "source": [
    "print(f\"15: {Matrix1[3][1][1]}\")"
   ]
  },
  {
   "cell_type": "code",
   "execution_count": 43,
   "id": "02108369",
   "metadata": {},
   "outputs": [
    {
     "name": "stdout",
     "output_type": "stream",
     "text": [
      "45: 45\n"
     ]
    }
   ],
   "source": [
    "print(f\"45: {Matrix1[1][1]}\")"
   ]
  },
  {
   "cell_type": "code",
   "execution_count": 47,
   "id": "bdfac945",
   "metadata": {},
   "outputs": [
    {
     "name": "stdout",
     "output_type": "stream",
     "text": [
      "day: Day\n"
     ]
    }
   ],
   "source": [
    "print(f\"day: {Matrix1[0]}\")"
   ]
  }
 ],
 "metadata": {
  "kernelspec": {
   "display_name": "Python 3 (ipykernel)",
   "language": "python",
   "name": "python3"
  },
  "language_info": {
   "codemirror_mode": {
    "name": "ipython",
    "version": 3
   },
   "file_extension": ".py",
   "mimetype": "text/x-python",
   "name": "python",
   "nbconvert_exporter": "python",
   "pygments_lexer": "ipython3",
   "version": "3.11.4"
  }
 },
 "nbformat": 4,
 "nbformat_minor": 5
}
